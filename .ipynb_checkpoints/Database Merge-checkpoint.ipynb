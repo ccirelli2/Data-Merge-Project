{
 "cells": [
  {
   "cell_type": "code",
   "execution_count": 1,
   "metadata": {},
   "outputs": [
    {
     "data": {
      "text/plain": [
       "\"PURPOSE\\n\\nThe purpose of this code is to attempt to merge the Starr account data located in Saleforce with that of the \\ncompany information located in Capital IQ.\\n\\nData Sources  = Two Excel spreadsheets, ene from Capital IQ and the other from Salesforce. \\nUnique ID's   = Capital IQ will be the CIQ ID\\n                Salesforce will be the Ultimate Parent D&B number. \\n\\nApproach      = TBD\\n\\nQuestions   \\n1.) Does every company in our dataset have a CIQ and D&B number?\\n2.) Does every company in our dataset have a state, city and zip code?\\n\\nDate:    02.07.2018\\nauthor:  Chris Cirelli\\n\""
      ]
     },
     "execution_count": 1,
     "metadata": {},
     "output_type": "execute_result"
    }
   ],
   "source": [
    "'''PURPOSE\n",
    "\n",
    "The purpose of this code is to attempt to merge the Starr account data located in Saleforce with that of the \n",
    "company information located in Capital IQ.\n",
    "\n",
    "Data Sources  = Two Excel spreadsheets, ene from Capital IQ and the other from Salesforce. \n",
    "Unique ID's   = Capital IQ will be the CIQ ID\n",
    "                Salesforce will be the Ultimate Parent D&B number. \n",
    "\n",
    "Approach      = TBD\n",
    "\n",
    "Questions   \n",
    "1.) Does every company in our dataset have a CIQ and D&B number?\n",
    "2.) Does every company in our dataset have a state, city and zip code?\n",
    "\n",
    "Date:    02.07.2018\n",
    "author:  Chris Cirelli\n",
    "'''"
   ]
  },
  {
   "cell_type": "code",
   "execution_count": null,
   "metadata": {},
   "outputs": [],
   "source": []
  },
  {
   "cell_type": "code",
   "execution_count": 2,
   "metadata": {},
   "outputs": [],
   "source": [
    "# LOAD LIBRARIES"
   ]
  },
  {
   "cell_type": "code",
   "execution_count": 3,
   "metadata": {},
   "outputs": [],
   "source": [
    "import re\n",
    "import os\n",
    "import nltk\n",
    "import pandas as pd\n",
    "import matplotlib.pyplot as plt\n",
    "import sys\n",
    "\n",
    "os.chdir(r'C:\\Users\\Chris.Cirelli\\Desktop\\Python Programming Docs\\GitHub\\Starr-Project')\n",
    "import Module_Starr_DataMerger as msd"
   ]
  },
  {
   "cell_type": "code",
   "execution_count": null,
   "metadata": {},
   "outputs": [],
   "source": []
  },
  {
   "cell_type": "code",
   "execution_count": 4,
   "metadata": {},
   "outputs": [],
   "source": [
    "# DEFINE DIRECTORY"
   ]
  },
  {
   "cell_type": "code",
   "execution_count": 5,
   "metadata": {},
   "outputs": [],
   "source": [
    "os.chdir(r'C:\\Users\\Chris.Cirelli\\Desktop\\Capital IQ Match w Salesforce')"
   ]
  },
  {
   "cell_type": "code",
   "execution_count": null,
   "metadata": {},
   "outputs": [],
   "source": []
  },
  {
   "cell_type": "code",
   "execution_count": 6,
   "metadata": {},
   "outputs": [],
   "source": [
    "# IMPORT FILES"
   ]
  },
  {
   "cell_type": "code",
   "execution_count": 7,
   "metadata": {},
   "outputs": [],
   "source": [
    "# Salesforce Data\n",
    "df_CIQ = pd.read_excel('Private Company Target List 2062018.xls')\n",
    "\n",
    "# Capital IQ Data\n",
    "df_SF = pd.read_excel('Salesforce Data Dump - Capital IQ Merger.xlsx')\n",
    "df_SF = df_SF[:-7]"
   ]
  },
  {
   "cell_type": "code",
   "execution_count": null,
   "metadata": {},
   "outputs": [],
   "source": []
  },
  {
   "cell_type": "code",
   "execution_count": 8,
   "metadata": {},
   "outputs": [],
   "source": [
    "# DATA ANALYTICS TABLE (DAT) CAPITAL IQ"
   ]
  },
  {
   "cell_type": "code",
   "execution_count": 9,
   "metadata": {},
   "outputs": [],
   "source": [
    "'''\n",
    "Datapoints = Client Name, Client Ultimate Parent DUNS Number, Billing City, Billing State/Province, \n",
    "Billing Zip/Postal Code'''\n",
    "\n",
    "DAT_CIQ = df_CIQ[['Excel Company ID', 'Company Name', 'Primary State', 'Primary City', 'Primary Zip Code/Postal Code']]\n"
   ]
  },
  {
   "cell_type": "code",
   "execution_count": null,
   "metadata": {},
   "outputs": [],
   "source": []
  },
  {
   "cell_type": "code",
   "execution_count": 10,
   "metadata": {},
   "outputs": [],
   "source": [
    "DAT_SF = df_SF[['Client Ultimate Parent DUNS Number', 'Company Name', 'Billing State/Province', 'Billing City', \n",
    "                'Billing Zip/Postal Code']]"
   ]
  },
  {
   "cell_type": "code",
   "execution_count": 11,
   "metadata": {},
   "outputs": [],
   "source": [
    "SF_company = DAT_SF['Company Name']\n"
   ]
  },
  {
   "cell_type": "code",
   "execution_count": 12,
   "metadata": {},
   "outputs": [],
   "source": [
    "# CALCULATE NONE VALUES"
   ]
  },
  {
   "cell_type": "code",
   "execution_count": 13,
   "metadata": {},
   "outputs": [
    {
     "name": "stdout",
     "output_type": "stream",
     "text": [
      "None Values in dataframe:  DAT_CIQ \n",
      " {'Excel Company ID': 0, 'Company Name': 0, 'Primary State': 0, 'Primary City': 0, 'Primary Zip Code/Postal Code': 0}\n",
      "\n",
      "None Values in dataframe:  DAT_SF \n",
      " {'Client Ultimate Parent DUNS Number': 0, 'Company Name': 0, 'Billing State/Province': 0, 'Billing City': 0, 'Billing Zip/Postal Code': 0}\n"
     ]
    }
   ],
   "source": [
    "print('None Values in dataframe:  DAT_CIQ', '\\n',  msd.get_nanValues(DAT_CIQ))\n",
    "print('')\n",
    "print('None Values in dataframe:  DAT_SF', '\\n', msd.get_nanValues(DAT_SF))\n"
   ]
  },
  {
   "cell_type": "code",
   "execution_count": null,
   "metadata": {},
   "outputs": [],
   "source": []
  },
  {
   "cell_type": "code",
   "execution_count": 14,
   "metadata": {},
   "outputs": [],
   "source": [
    "# GET FIRST AND SECOND COMPANY NAMES"
   ]
  },
  {
   "cell_type": "code",
   "execution_count": 15,
   "metadata": {},
   "outputs": [],
   "source": [
    "DAT_CIQ_list_first_Name = msd.get_company_name(DAT_CIQ, 'First').copy()\n",
    "DAT_CIQ_list_second_Name = msd.get_company_name(DAT_CIQ, 'Second').copy()"
   ]
  },
  {
   "cell_type": "code",
   "execution_count": 16,
   "metadata": {},
   "outputs": [],
   "source": [
    "DAT_SF_list_first_Name = msd.get_company_name(DAT_SF, 'First').copy()\n",
    "DAT_SF_list_Second_Name = msd.get_company_name(DAT_SF, 'Second').copy()"
   ]
  },
  {
   "cell_type": "code",
   "execution_count": 17,
   "metadata": {},
   "outputs": [],
   "source": [
    "# Verify Lenghts of Lists"
   ]
  },
  {
   "cell_type": "code",
   "execution_count": 18,
   "metadata": {},
   "outputs": [],
   "source": [
    "# Append First and Second Names to Dataframes"
   ]
  },
  {
   "cell_type": "code",
   "execution_count": 19,
   "metadata": {},
   "outputs": [
    {
     "name": "stdout",
     "output_type": "stream",
     "text": [
      "38813\n",
      "38813\n",
      "38813\n"
     ]
    }
   ],
   "source": [
    "print(len(DAT_SF['Company Name']))\n",
    "print(len(DAT_SF_list_first_Name))\n",
    "print(len(DAT_SF_list_Second_Name))"
   ]
  },
  {
   "cell_type": "code",
   "execution_count": null,
   "metadata": {},
   "outputs": [],
   "source": []
  },
  {
   "cell_type": "code",
   "execution_count": 20,
   "metadata": {},
   "outputs": [],
   "source": [
    "# RECREATE DATAFRAMES WITH FIRST AND SECOND NAMES APPENDED. "
   ]
  },
  {
   "cell_type": "code",
   "execution_count": 21,
   "metadata": {},
   "outputs": [
    {
     "name": "stderr",
     "output_type": "stream",
     "text": [
      "C:\\Users\\Chris.Cirelli\\AppData\\Local\\Continuum\\Anaconda3\\lib\\site-packages\\ipykernel_launcher.py:1: SettingWithCopyWarning: \n",
      "A value is trying to be set on a copy of a slice from a DataFrame.\n",
      "Try using .loc[row_indexer,col_indexer] = value instead\n",
      "\n",
      "See the caveats in the documentation: http://pandas.pydata.org/pandas-docs/stable/indexing.html#indexing-view-versus-copy\n",
      "  \"\"\"Entry point for launching an IPython kernel.\n",
      "C:\\Users\\Chris.Cirelli\\AppData\\Local\\Continuum\\Anaconda3\\lib\\site-packages\\ipykernel_launcher.py:2: SettingWithCopyWarning: \n",
      "A value is trying to be set on a copy of a slice from a DataFrame.\n",
      "Try using .loc[row_indexer,col_indexer] = value instead\n",
      "\n",
      "See the caveats in the documentation: http://pandas.pydata.org/pandas-docs/stable/indexing.html#indexing-view-versus-copy\n",
      "  \n",
      "C:\\Users\\Chris.Cirelli\\AppData\\Local\\Continuum\\Anaconda3\\lib\\site-packages\\ipykernel_launcher.py:3: SettingWithCopyWarning: \n",
      "A value is trying to be set on a copy of a slice from a DataFrame.\n",
      "Try using .loc[row_indexer,col_indexer] = value instead\n",
      "\n",
      "See the caveats in the documentation: http://pandas.pydata.org/pandas-docs/stable/indexing.html#indexing-view-versus-copy\n",
      "  This is separate from the ipykernel package so we can avoid doing imports until\n",
      "C:\\Users\\Chris.Cirelli\\AppData\\Local\\Continuum\\Anaconda3\\lib\\site-packages\\ipykernel_launcher.py:4: SettingWithCopyWarning: \n",
      "A value is trying to be set on a copy of a slice from a DataFrame.\n",
      "Try using .loc[row_indexer,col_indexer] = value instead\n",
      "\n",
      "See the caveats in the documentation: http://pandas.pydata.org/pandas-docs/stable/indexing.html#indexing-view-versus-copy\n",
      "  after removing the cwd from sys.path.\n"
     ]
    }
   ],
   "source": [
    "DAT_SF['Company First Name'] = DAT_SF_list_first_Name\n",
    "DAT_SF['Company Second Name'] = DAT_SF_list_Second_Name\n",
    "DAT_CIQ['Company First Name'] = DAT_CIQ_list_first_Name\n",
    "DAT_CIQ['Company Second Name'] = DAT_CIQ_list_second_Name"
   ]
  },
  {
   "cell_type": "code",
   "execution_count": 22,
   "metadata": {},
   "outputs": [],
   "source": [
    "# CLEAN UP ZIP CODE"
   ]
  },
  {
   "cell_type": "code",
   "execution_count": 23,
   "metadata": {},
   "outputs": [
    {
     "name": "stderr",
     "output_type": "stream",
     "text": [
      "C:\\Users\\Chris.Cirelli\\AppData\\Local\\Continuum\\Anaconda3\\lib\\site-packages\\ipykernel_launcher.py:2: SettingWithCopyWarning: \n",
      "A value is trying to be set on a copy of a slice from a DataFrame.\n",
      "Try using .loc[row_indexer,col_indexer] = value instead\n",
      "\n",
      "See the caveats in the documentation: http://pandas.pydata.org/pandas-docs/stable/indexing.html#indexing-view-versus-copy\n",
      "  \n",
      "C:\\Users\\Chris.Cirelli\\AppData\\Local\\Continuum\\Anaconda3\\lib\\site-packages\\ipykernel_launcher.py:4: SettingWithCopyWarning: \n",
      "A value is trying to be set on a copy of a slice from a DataFrame.\n",
      "Try using .loc[row_indexer,col_indexer] = value instead\n",
      "\n",
      "See the caveats in the documentation: http://pandas.pydata.org/pandas-docs/stable/indexing.html#indexing-view-versus-copy\n",
      "  after removing the cwd from sys.path.\n"
     ]
    }
   ],
   "source": [
    "DAT_CIQ_ZIP = msd.clean_zip_code('DAT_CIQ', DAT_CIQ)\n",
    "DAT_CIQ['Zip Code Clean'] = DAT_CIQ_ZIP\n",
    "DAT_SF_ZIP = msd.clean_zip_code('DAT_SF', DAT_SF)\n",
    "DAT_SF['Zip Code Clean'] = DAT_SF_ZIP"
   ]
  },
  {
   "cell_type": "code",
   "execution_count": 24,
   "metadata": {},
   "outputs": [
    {
     "data": {
      "text/html": [
       "<div>\n",
       "<style>\n",
       "    .dataframe thead tr:only-child th {\n",
       "        text-align: right;\n",
       "    }\n",
       "\n",
       "    .dataframe thead th {\n",
       "        text-align: left;\n",
       "    }\n",
       "\n",
       "    .dataframe tbody tr th {\n",
       "        vertical-align: top;\n",
       "    }\n",
       "</style>\n",
       "<table border=\"1\" class=\"dataframe\">\n",
       "  <thead>\n",
       "    <tr style=\"text-align: right;\">\n",
       "      <th></th>\n",
       "      <th>Client Ultimate Parent DUNS Number</th>\n",
       "      <th>Company Name</th>\n",
       "      <th>Billing State/Province</th>\n",
       "      <th>Billing City</th>\n",
       "      <th>Billing Zip/Postal Code</th>\n",
       "      <th>Company First Name</th>\n",
       "      <th>Company Second Name</th>\n",
       "      <th>Zip Code Clean</th>\n",
       "    </tr>\n",
       "  </thead>\n",
       "  <tbody>\n",
       "    <tr>\n",
       "      <th>0</th>\n",
       "      <td>51957769.0</td>\n",
       "      <td>Wal-Mart Stores, Inc.</td>\n",
       "      <td>AR</td>\n",
       "      <td>Bentonville</td>\n",
       "      <td>72716-6299</td>\n",
       "      <td>Wal-Mart</td>\n",
       "      <td>Stores</td>\n",
       "      <td>72716</td>\n",
       "    </tr>\n",
       "    <tr>\n",
       "      <th>1</th>\n",
       "      <td>51957769.0</td>\n",
       "      <td>Wal-Mart Stores, Inc.</td>\n",
       "      <td>AR</td>\n",
       "      <td>Bentonville</td>\n",
       "      <td>72716-6299</td>\n",
       "      <td>Wal-Mart</td>\n",
       "      <td>Stores</td>\n",
       "      <td>72716</td>\n",
       "    </tr>\n",
       "    <tr>\n",
       "      <th>2</th>\n",
       "      <td>51957769.0</td>\n",
       "      <td>Wal-Mart Stores, Inc.</td>\n",
       "      <td>AR</td>\n",
       "      <td>Bentonville</td>\n",
       "      <td>72716-6299</td>\n",
       "      <td>Wal-Mart</td>\n",
       "      <td>Stores</td>\n",
       "      <td>72716</td>\n",
       "    </tr>\n",
       "    <tr>\n",
       "      <th>3</th>\n",
       "      <td>51957769.0</td>\n",
       "      <td>Wal-Mart Stores, Inc.</td>\n",
       "      <td>AR</td>\n",
       "      <td>Bentonville</td>\n",
       "      <td>72716-6299</td>\n",
       "      <td>Wal-Mart</td>\n",
       "      <td>Stores</td>\n",
       "      <td>72716</td>\n",
       "    </tr>\n",
       "    <tr>\n",
       "      <th>4</th>\n",
       "      <td>51957769.0</td>\n",
       "      <td>Wal-Mart Stores, Inc.</td>\n",
       "      <td>AR</td>\n",
       "      <td>Bentonville</td>\n",
       "      <td>72716-6299</td>\n",
       "      <td>Wal-Mart</td>\n",
       "      <td>Stores</td>\n",
       "      <td>72716</td>\n",
       "    </tr>\n",
       "  </tbody>\n",
       "</table>\n",
       "</div>"
      ],
      "text/plain": [
       "   Client Ultimate Parent DUNS Number           Company Name  \\\n",
       "0                          51957769.0  Wal-Mart Stores, Inc.   \n",
       "1                          51957769.0  Wal-Mart Stores, Inc.   \n",
       "2                          51957769.0  Wal-Mart Stores, Inc.   \n",
       "3                          51957769.0  Wal-Mart Stores, Inc.   \n",
       "4                          51957769.0  Wal-Mart Stores, Inc.   \n",
       "\n",
       "  Billing State/Province Billing City Billing Zip/Postal Code  \\\n",
       "0                     AR  Bentonville              72716-6299   \n",
       "1                     AR  Bentonville              72716-6299   \n",
       "2                     AR  Bentonville              72716-6299   \n",
       "3                     AR  Bentonville              72716-6299   \n",
       "4                     AR  Bentonville              72716-6299   \n",
       "\n",
       "  Company First Name Company Second Name Zip Code Clean  \n",
       "0           Wal-Mart              Stores          72716  \n",
       "1           Wal-Mart              Stores          72716  \n",
       "2           Wal-Mart              Stores          72716  \n",
       "3           Wal-Mart              Stores          72716  \n",
       "4           Wal-Mart              Stores          72716  "
      ]
     },
     "execution_count": 24,
     "metadata": {},
     "output_type": "execute_result"
    }
   ],
   "source": [
    "DAT_SF.head()"
   ]
  },
  {
   "cell_type": "code",
   "execution_count": 25,
   "metadata": {},
   "outputs": [
    {
     "data": {
      "text/html": [
       "<div>\n",
       "<style>\n",
       "    .dataframe thead tr:only-child th {\n",
       "        text-align: right;\n",
       "    }\n",
       "\n",
       "    .dataframe thead th {\n",
       "        text-align: left;\n",
       "    }\n",
       "\n",
       "    .dataframe tbody tr th {\n",
       "        vertical-align: top;\n",
       "    }\n",
       "</style>\n",
       "<table border=\"1\" class=\"dataframe\">\n",
       "  <thead>\n",
       "    <tr style=\"text-align: right;\">\n",
       "      <th></th>\n",
       "      <th>Excel Company ID</th>\n",
       "      <th>Company Name</th>\n",
       "      <th>Primary State</th>\n",
       "      <th>Primary City</th>\n",
       "      <th>Primary Zip Code/Postal Code</th>\n",
       "      <th>Company First Name</th>\n",
       "      <th>Company Second Name</th>\n",
       "      <th>Zip Code Clean</th>\n",
       "    </tr>\n",
       "  </thead>\n",
       "  <tbody>\n",
       "    <tr>\n",
       "      <th>0</th>\n",
       "      <td>IQ184468</td>\n",
       "      <td>Mars, Incorporated</td>\n",
       "      <td>Virginia</td>\n",
       "      <td>McLean</td>\n",
       "      <td>22101</td>\n",
       "      <td>Mars</td>\n",
       "      <td>Incorporated</td>\n",
       "      <td>22101</td>\n",
       "    </tr>\n",
       "    <tr>\n",
       "      <th>1</th>\n",
       "      <td>IQ201170</td>\n",
       "      <td>Publix Super Markets, Inc.</td>\n",
       "      <td>Florida</td>\n",
       "      <td>Lakeland</td>\n",
       "      <td>33811</td>\n",
       "      <td>Publix</td>\n",
       "      <td>Super</td>\n",
       "      <td>33811</td>\n",
       "    </tr>\n",
       "    <tr>\n",
       "      <th>2</th>\n",
       "      <td>IQ117946</td>\n",
       "      <td>Cox Enterprises, Inc.</td>\n",
       "      <td>Georgia</td>\n",
       "      <td>Atlanta</td>\n",
       "      <td>30328</td>\n",
       "      <td>Cox</td>\n",
       "      <td>Enterprises</td>\n",
       "      <td>30328</td>\n",
       "    </tr>\n",
       "    <tr>\n",
       "      <th>3</th>\n",
       "      <td>IQ160810</td>\n",
       "      <td>CHS, Inc.</td>\n",
       "      <td>Minnesota</td>\n",
       "      <td>Inver Grove Heights</td>\n",
       "      <td>55077</td>\n",
       "      <td>CHS</td>\n",
       "      <td>Inc.</td>\n",
       "      <td>55077</td>\n",
       "    </tr>\n",
       "    <tr>\n",
       "      <th>4</th>\n",
       "      <td>IQ160716</td>\n",
       "      <td>C&amp;S Wholesale Grocers, Inc.</td>\n",
       "      <td>New Hampshire</td>\n",
       "      <td>Keene</td>\n",
       "      <td>3431</td>\n",
       "      <td>C&amp;S</td>\n",
       "      <td>Wholesale</td>\n",
       "      <td>3431</td>\n",
       "    </tr>\n",
       "  </tbody>\n",
       "</table>\n",
       "</div>"
      ],
      "text/plain": [
       "  Excel Company ID                 Company Name  Primary State  \\\n",
       "0         IQ184468           Mars, Incorporated       Virginia   \n",
       "1         IQ201170   Publix Super Markets, Inc.        Florida   \n",
       "2         IQ117946        Cox Enterprises, Inc.        Georgia   \n",
       "3         IQ160810                    CHS, Inc.      Minnesota   \n",
       "4         IQ160716  C&S Wholesale Grocers, Inc.  New Hampshire   \n",
       "\n",
       "          Primary City Primary Zip Code/Postal Code Company First Name  \\\n",
       "0               McLean                        22101               Mars   \n",
       "1             Lakeland                        33811             Publix   \n",
       "2              Atlanta                        30328                Cox   \n",
       "3  Inver Grove Heights                        55077                CHS   \n",
       "4                Keene                         3431                C&S   \n",
       "\n",
       "  Company Second Name Zip Code Clean  \n",
       "0        Incorporated          22101  \n",
       "1               Super          33811  \n",
       "2         Enterprises          30328  \n",
       "3                Inc.          55077  \n",
       "4           Wholesale           3431  "
      ]
     },
     "execution_count": 25,
     "metadata": {},
     "output_type": "execute_result"
    }
   ],
   "source": [
    "DAT_CIQ.head()"
   ]
  },
  {
   "cell_type": "code",
   "execution_count": 26,
   "metadata": {},
   "outputs": [],
   "source": [
    "# CREATE SET OF DF, COMPARE LEN WITH DF"
   ]
  },
  {
   "cell_type": "code",
   "execution_count": null,
   "metadata": {},
   "outputs": [],
   "source": []
  },
  {
   "cell_type": "code",
   "execution_count": null,
   "metadata": {},
   "outputs": [],
   "source": []
  },
  {
   "cell_type": "code",
   "execution_count": null,
   "metadata": {},
   "outputs": [],
   "source": [
    "# CODE TO MERGE DATA SETS"
   ]
  },
  {
   "cell_type": "code",
   "execution_count": 33,
   "metadata": {},
   "outputs": [],
   "source": [
    "DAT_SF_match = msd.get_match(DAT_CIQ, DAT_SF)\n",
    "\n"
   ]
  },
  {
   "cell_type": "code",
   "execution_count": null,
   "metadata": {},
   "outputs": [],
   "source": [
    "New_col = [(x is None) for x in range(0,8899)]\n"
   ]
  },
  {
   "cell_type": "code",
   "execution_count": null,
   "metadata": {},
   "outputs": [],
   "source": []
  },
  {
   "cell_type": "code",
   "execution_count": null,
   "metadata": {},
   "outputs": [],
   "source": []
  },
  {
   "cell_type": "code",
   "execution_count": null,
   "metadata": {},
   "outputs": [],
   "source": []
  },
  {
   "cell_type": "code",
   "execution_count": null,
   "metadata": {},
   "outputs": [],
   "source": []
  },
  {
   "cell_type": "code",
   "execution_count": null,
   "metadata": {},
   "outputs": [],
   "source": []
  },
  {
   "cell_type": "code",
   "execution_count": null,
   "metadata": {},
   "outputs": [],
   "source": []
  },
  {
   "cell_type": "code",
   "execution_count": null,
   "metadata": {},
   "outputs": [],
   "source": []
  },
  {
   "cell_type": "code",
   "execution_count": null,
   "metadata": {},
   "outputs": [],
   "source": []
  },
  {
   "cell_type": "code",
   "execution_count": null,
   "metadata": {},
   "outputs": [],
   "source": []
  },
  {
   "cell_type": "code",
   "execution_count": null,
   "metadata": {},
   "outputs": [],
   "source": []
  },
  {
   "cell_type": "code",
   "execution_count": null,
   "metadata": {},
   "outputs": [],
   "source": []
  },
  {
   "cell_type": "code",
   "execution_count": null,
   "metadata": {},
   "outputs": [],
   "source": []
  },
  {
   "cell_type": "code",
   "execution_count": null,
   "metadata": {},
   "outputs": [],
   "source": []
  },
  {
   "cell_type": "code",
   "execution_count": null,
   "metadata": {},
   "outputs": [],
   "source": []
  }
 ],
 "metadata": {
  "kernelspec": {
   "display_name": "Python 3",
   "language": "python",
   "name": "python3"
  },
  "language_info": {
   "codemirror_mode": {
    "name": "ipython",
    "version": 3
   },
   "file_extension": ".py",
   "mimetype": "text/x-python",
   "name": "python",
   "nbconvert_exporter": "python",
   "pygments_lexer": "ipython3",
   "version": "3.6.1"
  }
 },
 "nbformat": 4,
 "nbformat_minor": 2
}
